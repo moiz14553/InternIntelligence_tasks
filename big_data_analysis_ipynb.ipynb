{
  "nbformat": 4,
  "nbformat_minor": 0,
  "metadata": {
    "colab": {
      "provenance": []
    },
    "kernelspec": {
      "name": "python3",
      "display_name": "Python 3"
    },
    "language_info": {
      "name": "python"
    }
  },
  "cells": [
    {
      "cell_type": "code",
      "execution_count": 1,
      "metadata": {
        "colab": {
          "base_uri": "https://localhost:8080/"
        },
        "id": "7MIXPk-fF5E2",
        "outputId": "e9b2c400-5579-4f3e-a68d-6e132cefb8c1"
      },
      "outputs": [
        {
          "output_type": "stream",
          "name": "stdout",
          "text": [
            "Requirement already satisfied: pyspark in /usr/local/lib/python3.11/dist-packages (3.5.1)\n",
            "Requirement already satisfied: py4j==0.10.9.7 in /usr/local/lib/python3.11/dist-packages (from pyspark) (0.10.9.7)\n"
          ]
        }
      ],
      "source": [
        "!pip install pyspark\n"
      ]
    },
    {
      "cell_type": "code",
      "source": [
        "from pyspark.sql import SparkSession\n",
        "\n",
        "# Start Spark session\n",
        "spark = SparkSession.builder.appName(\"CSV Analysis\").getOrCreate()\n",
        "\n",
        "# Load the CSV file\n",
        "df = spark.read.csv(\"/content/7817_1.csv\", header=True, inferSchema=True)\n",
        "\n",
        "# Show first 5 rows\n",
        "df.show(5)\n",
        "\n",
        "# Print column names and data types\n",
        "df.printSchema()\n"
      ],
      "metadata": {
        "colab": {
          "base_uri": "https://localhost:8080/"
        },
        "id": "cMNz1gE1GIGy",
        "outputId": "dc22ba98-5b02-4cc0-9482-34d1f4117bdd"
      },
      "execution_count": 2,
      "outputs": [
        {
          "output_type": "stream",
          "name": "stdout",
          "text": [
            "+--------------------+----------+------+--------------------+------+-------------------+-------------------+--------------------+----+--------------------+------------+------------------+-----------------+--------------------+--------------------+--------------------+--------------------+--------------------+--------------------+--------------------+--------------------+--------------------+--------------------+--------------------+--------------------+--------------------+--------------------+\n",
            "|                  id|     asins| brand|          categories|colors|          dateAdded|        dateUpdated|           dimension| ean|                keys|manufacturer|manufacturerNumber|             name|              prices|        reviews.date| reviews.doRecommend|  reviews.numHelpful|      reviews.rating|  reviews.sourceURLs|        reviews.text|       reviews.title|    reviews.userCity|reviews.userProvince|    reviews.username|               sizes|                 upc|              weight|\n",
            "+--------------------+----------+------+--------------------+------+-------------------+-------------------+--------------------+----+--------------------+------------+------------------+-----------------+--------------------+--------------------+--------------------+--------------------+--------------------+--------------------+--------------------+--------------------+--------------------+--------------------+--------------------+--------------------+--------------------+--------------------+\n",
            "|AVpe7AsMilAPnD_xQ78G|B00QJDU3KY|Amazon|Amazon Devices,ma...|  NULL|2016-03-08 20:21:53|2017-07-18 23:52:58|169 mm x 117 mm x...|NULL|kindlepaperwhite/...|      Amazon|              NULL|Kindle Paperwhite|\"[{\"\"amountMax\"\":...|\"\"amountMin\"\":139.99|\"\"currency\"\":\"\"USD\"\"|\"\"dateAdded\"\":\"\"2...|\"\"dateSeen\"\":[\"\"2...|\"\"2016-03-16T00:0...|\"\"isSale\"\":\"\"false\"\"|\"\"merchant\"\":\"\"Am...|\"\"shipping\"\":\"\"FR...|\"\"sourceURLs\"\":[\"...|\"\"http://www.amaz...|{\"\"amountMax\"\":11...|\"\"amountMin\"\":119.99|\"\"condition\"\":\"\"n...|\n",
            "|AVpe7AsMilAPnD_xQ78G|B00QJDU3KY|Amazon|Amazon Devices,ma...|  NULL|2016-03-08 20:21:53|2017-07-18 23:52:58|169 mm x 117 mm x...|NULL|kindlepaperwhite/...|      Amazon|              NULL|Kindle Paperwhite|\"[{\"\"amountMax\"\":...|\"\"amountMin\"\":139.99|\"\"currency\"\":\"\"USD\"\"|\"\"dateAdded\"\":\"\"2...|\"\"dateSeen\"\":[\"\"2...|\"\"2016-03-16T00:0...|\"\"isSale\"\":\"\"false\"\"|\"\"merchant\"\":\"\"Am...|\"\"shipping\"\":\"\"FR...|\"\"sourceURLs\"\":[\"...|\"\"http://www.amaz...|{\"\"amountMax\"\":11...|\"\"amountMin\"\":119.99|\"\"condition\"\":\"\"n...|\n",
            "|AVpe7AsMilAPnD_xQ78G|B00QJDU3KY|Amazon|Amazon Devices,ma...|  NULL|2016-03-08 20:21:53|2017-07-18 23:52:58|169 mm x 117 mm x...|NULL|kindlepaperwhite/...|      Amazon|              NULL|Kindle Paperwhite|\"[{\"\"amountMax\"\":...|\"\"amountMin\"\":139.99|\"\"currency\"\":\"\"USD\"\"|\"\"dateAdded\"\":\"\"2...|\"\"dateSeen\"\":[\"\"2...|\"\"2016-03-16T00:0...|\"\"isSale\"\":\"\"false\"\"|\"\"merchant\"\":\"\"Am...|\"\"shipping\"\":\"\"FR...|\"\"sourceURLs\"\":[\"...|\"\"http://www.amaz...|{\"\"amountMax\"\":11...|\"\"amountMin\"\":119.99|\"\"condition\"\":\"\"n...|\n",
            "|AVpe7AsMilAPnD_xQ78G|B00QJDU3KY|Amazon|Amazon Devices,ma...|  NULL|2016-03-08 20:21:53|2017-07-18 23:52:58|169 mm x 117 mm x...|NULL|kindlepaperwhite/...|      Amazon|              NULL|Kindle Paperwhite|\"[{\"\"amountMax\"\":...|\"\"amountMin\"\":139.99|\"\"currency\"\":\"\"USD\"\"|\"\"dateAdded\"\":\"\"2...|\"\"dateSeen\"\":[\"\"2...|\"\"2016-03-16T00:0...|\"\"isSale\"\":\"\"false\"\"|\"\"merchant\"\":\"\"Am...|\"\"shipping\"\":\"\"FR...|\"\"sourceURLs\"\":[\"...|\"\"http://www.amaz...|{\"\"amountMax\"\":11...|\"\"amountMin\"\":119.99|\"\"condition\"\":\"\"n...|\n",
            "|AVpe7AsMilAPnD_xQ78G|B00QJDU3KY|Amazon|Amazon Devices,ma...|  NULL|2016-03-08 20:21:53|2017-07-18 23:52:58|169 mm x 117 mm x...|NULL|kindlepaperwhite/...|      Amazon|              NULL|Kindle Paperwhite|\"[{\"\"amountMax\"\":...|\"\"amountMin\"\":139.99|\"\"currency\"\":\"\"USD\"\"|\"\"dateAdded\"\":\"\"2...|\"\"dateSeen\"\":[\"\"2...|\"\"2016-03-16T00:0...|\"\"isSale\"\":\"\"false\"\"|\"\"merchant\"\":\"\"Am...|\"\"shipping\"\":\"\"FR...|\"\"sourceURLs\"\":[\"...|\"\"http://www.amaz...|{\"\"amountMax\"\":11...|\"\"amountMin\"\":119.99|\"\"condition\"\":\"\"n...|\n",
            "+--------------------+----------+------+--------------------+------+-------------------+-------------------+--------------------+----+--------------------+------------+------------------+-----------------+--------------------+--------------------+--------------------+--------------------+--------------------+--------------------+--------------------+--------------------+--------------------+--------------------+--------------------+--------------------+--------------------+--------------------+\n",
            "only showing top 5 rows\n",
            "\n",
            "root\n",
            " |-- id: string (nullable = true)\n",
            " |-- asins: string (nullable = true)\n",
            " |-- brand: string (nullable = true)\n",
            " |-- categories: string (nullable = true)\n",
            " |-- colors: string (nullable = true)\n",
            " |-- dateAdded: timestamp (nullable = true)\n",
            " |-- dateUpdated: timestamp (nullable = true)\n",
            " |-- dimension: string (nullable = true)\n",
            " |-- ean: double (nullable = true)\n",
            " |-- keys: string (nullable = true)\n",
            " |-- manufacturer: string (nullable = true)\n",
            " |-- manufacturerNumber: string (nullable = true)\n",
            " |-- name: string (nullable = true)\n",
            " |-- prices: string (nullable = true)\n",
            " |-- reviews.date: string (nullable = true)\n",
            " |-- reviews.doRecommend: string (nullable = true)\n",
            " |-- reviews.numHelpful: string (nullable = true)\n",
            " |-- reviews.rating: string (nullable = true)\n",
            " |-- reviews.sourceURLs: string (nullable = true)\n",
            " |-- reviews.text: string (nullable = true)\n",
            " |-- reviews.title: string (nullable = true)\n",
            " |-- reviews.userCity: string (nullable = true)\n",
            " |-- reviews.userProvince: string (nullable = true)\n",
            " |-- reviews.username: string (nullable = true)\n",
            " |-- sizes: string (nullable = true)\n",
            " |-- upc: string (nullable = true)\n",
            " |-- weight: string (nullable = true)\n",
            "\n"
          ]
        }
      ]
    },
    {
      "cell_type": "code",
      "source": [
        "df.count()\n"
      ],
      "metadata": {
        "colab": {
          "base_uri": "https://localhost:8080/"
        },
        "id": "PXDc-AhdINP3",
        "outputId": "196e32aa-2583-4b29-ac30-a17ce7362892"
      },
      "execution_count": 3,
      "outputs": [
        {
          "output_type": "execute_result",
          "data": {
            "text/plain": [
              "1597"
            ]
          },
          "metadata": {},
          "execution_count": 3
        }
      ]
    },
    {
      "cell_type": "code",
      "source": [
        "df.groupBy(\"categories\").count().orderBy(\"count\", ascending=False).show(5)"
      ],
      "metadata": {
        "colab": {
          "base_uri": "https://localhost:8080/"
        },
        "id": "aSIlkPkTISdc",
        "outputId": "cb547853-84c8-4b62-ea03-6d4f42212861"
      },
      "execution_count": 4,
      "outputs": [
        {
          "output_type": "stream",
          "name": "stdout",
          "text": [
            "+--------------------+-----+\n",
            "|          categories|count|\n",
            "+--------------------+-----+\n",
            "|Amazon Devices,Ho...|  542|\n",
            "|      Amazon Devices|  195|\n",
            "|Categories,Amazon...|  166|\n",
            "|Amazon Devices,Ki...|  151|\n",
            "|Amazon Devices,Co...|  133|\n",
            "+--------------------+-----+\n",
            "only showing top 5 rows\n",
            "\n"
          ]
        }
      ]
    },
    {
      "cell_type": "code",
      "source": [
        "df.selectExpr(\"avg(`reviews.rating`) as avg_rating\").show()"
      ],
      "metadata": {
        "colab": {
          "base_uri": "https://localhost:8080/"
        },
        "id": "9aKj9FB1IYEM",
        "outputId": "58005fa1-9ae7-4fa0-d113-709b6ae8278b"
      },
      "execution_count": 5,
      "outputs": [
        {
          "output_type": "stream",
          "name": "stdout",
          "text": [
            "+----------+\n",
            "|avg_rating|\n",
            "+----------+\n",
            "|      NULL|\n",
            "+----------+\n",
            "\n"
          ]
        }
      ]
    },
    {
      "cell_type": "code",
      "source": [
        "df.select(\"name\", \"`reviews.text`\", \"`reviews.numHelpful`\")\\\n",
        "  .orderBy(\"`reviews.numHelpful`\", ascending=False)\\\n",
        "  .show(5, truncate=False)"
      ],
      "metadata": {
        "colab": {
          "base_uri": "https://localhost:8080/"
        },
        "id": "EuR2-80WIdr8",
        "outputId": "faf12b0d-8a8a-4e4f-fd0c-52129ef0b49f"
      },
      "execution_count": 7,
      "outputs": [
        {
          "output_type": "stream",
          "name": "stdout",
          "text": [
            "+---------------------------------+----------------------------+--------------------------------------+\n",
            "|name                             |reviews.text                |reviews.numHelpful                    |\n",
            "+---------------------------------+----------------------------+--------------------------------------+\n",
            "|Echo Dot (2nd Generation) - Black|\"\"2017-07-25T01:59:11.888Z\"\"|\"\"dateAdded\"\":\"\"2017-08-13T08:31:08Z\"\"|\n",
            "|Echo Dot (2nd Generation) - Black|\"\"2017-07-25T01:59:11.888Z\"\"|\"\"dateAdded\"\":\"\"2017-08-13T08:31:08Z\"\"|\n",
            "|Echo Dot (2nd Generation) - Black|\"\"2017-07-25T01:59:11.888Z\"\"|\"\"dateAdded\"\":\"\"2017-08-13T08:31:08Z\"\"|\n",
            "|Echo Dot (2nd Generation) - Black|\"\"2017-07-25T01:59:11.888Z\"\"|\"\"dateAdded\"\":\"\"2017-08-13T08:31:08Z\"\"|\n",
            "|Echo Dot (2nd Generation) - Black|\"\"2017-07-25T01:59:11.888Z\"\"|\"\"dateAdded\"\":\"\"2017-08-13T08:31:08Z\"\"|\n",
            "+---------------------------------+----------------------------+--------------------------------------+\n",
            "only showing top 5 rows\n",
            "\n"
          ]
        }
      ]
    },
    {
      "cell_type": "code",
      "source": [
        "df.filter(df[\"`reviews.rating`\"] < 3).count()"
      ],
      "metadata": {
        "colab": {
          "base_uri": "https://localhost:8080/"
        },
        "id": "FfMHaJFWMvAs",
        "outputId": "eb7450d8-074c-490f-d587-3ce1304b8a24"
      },
      "execution_count": 9,
      "outputs": [
        {
          "output_type": "execute_result",
          "data": {
            "text/plain": [
              "0"
            ]
          },
          "metadata": {},
          "execution_count": 9
        }
      ]
    }
  ]
}